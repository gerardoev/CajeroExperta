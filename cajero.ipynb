{
 "cells": [
  {
   "cell_type": "code",
   "execution_count": 1,
   "metadata": {},
   "outputs": [],
   "source": [
    "from experta import *"
   ]
  },
  {
   "cell_type": "code",
   "execution_count": 2,
   "metadata": {},
   "outputs": [],
   "source": [
    "class prueba (KnowledgeEngine):\n",
    "    @DefFacts()\n",
    "    def prueba(self):\n",
    "        \"\"\"Al lanzar esta prueba nos debe dar la regla 1b\"\"\"\n",
    "        yield Fact(p=\"bien\", q=\"incorrecto\", r=\"suficiente\", s=\"no excedido\")\n",
    "        \n",
    "    @Rule(Fact(p=\"bien\", q =\"correcto\", r =\"suficiente\", s=\"no excedido\"))\n",
    "    def regla_1(self):\n",
    "        \"\"\"Regla 1\"\"\"\n",
    "        self.declare(Fact(pago = \"autorizado\"))\n",
    "    @Rule(OR (\n",
    "                Fact(p = ~L(\"bien\")),\n",
    "                Fact(q = ~L(\"correcto\")),\n",
    "                Fact(r = ~L(\"suficiente\")),\n",
    "                Fact(s = ~L(\"no excedido\"))\n",
    "            ))\n",
    "    def regla_1b(self):\n",
    "        self.declare(Fact(pago = \"no autorizado\"))\n",
    "    \n",
    "    @Rule(Fact(pago = \"no autorizado\"))\n",
    "    def no_autorizado(self):\n",
    "        print(\"NIP incorrecto o saldo suficiente o límite excedido\")\n",
    "    @Rule(Fact(pago = \"autorizado\"))\n",
    "    def autorizado(self):\n",
    "        print(\"Retiro exitoso\")"
   ]
  },
  {
   "cell_type": "code",
   "execution_count": 3,
   "metadata": {},
   "outputs": [
    {
     "name": "stdout",
     "output_type": "stream",
     "text": [
      "NIP incorrecto o saldo suficiente o límite excedido\n"
     ]
    }
   ],
   "source": [
    "sistema = prueba()\n",
    "sistema.reset()\n",
    "sistema.run()"
   ]
  },
  {
   "cell_type": "code",
   "execution_count": 4,
   "metadata": {},
   "outputs": [
    {
     "data": {
      "text/plain": [
       "FactList([(0, InitialFact()),\n",
       "          (1, Fact(p='bien', q='incorrecto', r='suficiente', s='no excedido')),\n",
       "          (2, Fact(pago='no autorizado'))])"
      ]
     },
     "execution_count": 4,
     "metadata": {},
     "output_type": "execute_result"
    }
   ],
   "source": [
    "sistema.facts"
   ]
  },
  {
   "cell_type": "code",
   "execution_count": null,
   "metadata": {},
   "outputs": [],
   "source": []
  },
  {
   "cell_type": "code",
   "execution_count": null,
   "metadata": {},
   "outputs": [],
   "source": []
  },
  {
   "cell_type": "code",
   "execution_count": null,
   "metadata": {},
   "outputs": [],
   "source": []
  }
 ],
 "metadata": {
  "kernelspec": {
   "display_name": "Python 3",
   "language": "python",
   "name": "python3"
  },
  "language_info": {
   "codemirror_mode": {
    "name": "ipython",
    "version": 3
   },
   "file_extension": ".py",
   "mimetype": "text/x-python",
   "name": "python",
   "nbconvert_exporter": "python",
   "pygments_lexer": "ipython3",
   "version": "3.6.8"
  }
 },
 "nbformat": 4,
 "nbformat_minor": 2
}
